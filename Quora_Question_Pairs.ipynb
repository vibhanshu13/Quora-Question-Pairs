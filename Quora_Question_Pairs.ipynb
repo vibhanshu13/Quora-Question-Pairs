{
  "nbformat": 4,
  "nbformat_minor": 0,
  "metadata": {
    "colab": {
      "name": "Quora Question Pairs.ipynb",
      "provenance": []
    },
    "kernelspec": {
      "name": "python3",
      "display_name": "Python 3"
    },
    "accelerator": "GPU"
  },
  "cells": [
    {
      "cell_type": "markdown",
      "metadata": {
        "id": "bpkyPPDELxTX",
        "colab_type": "text"
      },
      "source": [
        "Uploading Text file"
      ]
    },
    {
      "cell_type": "code",
      "metadata": {
        "id": "NB7fxJuPEXFZ",
        "colab_type": "code",
        "colab": {}
      },
      "source": [
        "from google.colab import files"
      ],
      "execution_count": 0,
      "outputs": []
    },
    {
      "cell_type": "code",
      "metadata": {
        "id": "4WkO62nMEiMo",
        "colab_type": "code",
        "outputId": "1dae2572-51ab-4a5d-cd5f-697c6a226196",
        "colab": {
          "resources": {
            "http://localhost:8080/nbextensions/google.colab/files.js": {
              "data": "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",
              "ok": true,
              "headers": [
                [
                  "content-type",
                  "application/javascript"
                ]
              ],
              "status": 200,
              "status_text": ""
            }
          },
          "base_uri": "https://localhost:8080/",
          "height": 108
        }
      },
      "source": [
        "uploaded=files.upload()"
      ],
      "execution_count": 3,
      "outputs": [
        {
          "output_type": "display_data",
          "data": {
            "text/html": [
              "\n",
              "     <input type=\"file\" id=\"files-5833d570-edf4-4c56-8fec-c67f8ea01cf3\" name=\"files[]\" multiple disabled />\n",
              "     <output id=\"result-5833d570-edf4-4c56-8fec-c67f8ea01cf3\">\n",
              "      Upload widget is only available when the cell has been executed in the\n",
              "      current browser session. Please rerun this cell to enable.\n",
              "      </output>\n",
              "      <script src=\"/nbextensions/google.colab/files.js\"></script> "
            ],
            "text/plain": [
              "<IPython.core.display.HTML object>"
            ]
          },
          "metadata": {
            "tags": []
          }
        },
        {
          "output_type": "stream",
          "text": [
            "Saving contraction.py to contraction.py\n",
            "Saving train.csv to train.csv\n"
          ],
          "name": "stdout"
        }
      ]
    },
    {
      "cell_type": "markdown",
      "metadata": {
        "id": "nNN7gYnCMEwA",
        "colab_type": "text"
      },
      "source": [
        "Loading Data into a dataframe"
      ]
    },
    {
      "cell_type": "code",
      "metadata": {
        "id": "T8p4x8PYEyA7",
        "colab_type": "code",
        "colab": {}
      },
      "source": [
        "import io\n",
        "import pandas as pd"
      ],
      "execution_count": 0,
      "outputs": []
    },
    {
      "cell_type": "code",
      "metadata": {
        "id": "LG4y1XRtIfy_",
        "colab_type": "code",
        "colab": {}
      },
      "source": [
        "df=pd.read_csv(io.BytesIO(uploaded['train.csv']))"
      ],
      "execution_count": 0,
      "outputs": []
    },
    {
      "cell_type": "markdown",
      "metadata": {
        "id": "lwicUw8SMMJn",
        "colab_type": "text"
      },
      "source": [
        "Importing Dependencies"
      ]
    },
    {
      "cell_type": "code",
      "metadata": {
        "id": "7ceGxHlvUb5F",
        "colab_type": "code",
        "outputId": "1159ac6e-7f9d-45a3-a69e-706a238b8222",
        "colab": {
          "base_uri": "https://localhost:8080/",
          "height": 79
        }
      },
      "source": [
        "import numpy as np\n",
        "import pandas as pd\n",
        "import re\n",
        "import nltk\n",
        "from collections import Counter\n",
        "from nltk import tokenize\n",
        "from tqdm import tqdm\n",
        "from nltk import word_tokenize\n",
        "from bs4 import BeautifulSoup\n",
        "from gensim.models import Word2Vec, Phrases\n",
        "from wordcloud import WordCloud\n",
        "from sklearn.model_selection import train_test_split\n",
        "from sklearn import metrics\n",
        "from keras.preprocessing.text import Tokenizer\n",
        "from keras.preprocessing.sequence import pad_sequences\n",
        "from keras.layers import Dense, Input, CuDNNLSTM, Embedding, Dropout, Activation, GRU, Conv1D\n",
        "from keras.layers import Bidirectional, GlobalMaxPool1D\n",
        "from keras.optimizers import Adam\n",
        "from keras.models import Model\n",
        "from keras import backend as K\n",
        "from keras.engine.topology import Layer\n",
        "from keras import initializers, regularizers, constraints, optimizers, layers\n",
        "from keras.callbacks import EarlyStopping, ModelCheckpoint, ReduceLROnPlateau\n",
        "from keras.layers import Conv1D, MaxPooling1D\n",
        "from keras.layers import BatchNormalization,concatenate\n",
        "from nltk.corpus import stopwords\n",
        "from nltk.stem.wordnet import WordNetLemmatizer\n",
        "import nltk\n",
        "from nltk.tokenize import WordPunctTokenizer\n",
        "from string import punctuation, ascii_lowercase\n",
        "from gensim.models import Word2Vec\n",
        "from keras.layers import Lambda\n",
        "from contraction import fix\n",
        "from string import punctuation"
      ],
      "execution_count": 6,
      "outputs": [
        {
          "output_type": "stream",
          "text": [
            "Using TensorFlow backend.\n"
          ],
          "name": "stderr"
        },
        {
          "output_type": "display_data",
          "data": {
            "text/html": [
              "<p style=\"color: red;\">\n",
              "The default version of TensorFlow in Colab will soon switch to TensorFlow 2.x.<br>\n",
              "We recommend you <a href=\"https://www.tensorflow.org/guide/migrate\" target=\"_blank\">upgrade</a> now \n",
              "or ensure your notebook will continue to use TensorFlow 1.x via the <code>%tensorflow_version 1.x</code> magic:\n",
              "<a href=\"https://colab.research.google.com/notebooks/tensorflow_version.ipynb\" target=\"_blank\">more info</a>.</p>\n"
            ],
            "text/plain": [
              "<IPython.core.display.HTML object>"
            ]
          },
          "metadata": {
            "tags": []
          }
        }
      ]
    },
    {
      "cell_type": "markdown",
      "metadata": {
        "id": "qz1IWGkfM-av",
        "colab_type": "text"
      },
      "source": [
        "## Data Preprocessing"
      ]
    },
    {
      "cell_type": "code",
      "metadata": {
        "id": "aTlzlMl_JCUo",
        "colab_type": "code",
        "colab": {},
        "cellView": "both"
      },
      "source": [
        "df['question1']=df['question1'].astype('str')\n",
        "df['question2']=df['question2'].astype('str')"
      ],
      "execution_count": 0,
      "outputs": []
    },
    {
      "cell_type": "code",
      "metadata": {
        "id": "C-TjJuHiJFWN",
        "colab_type": "code",
        "colab": {}
      },
      "source": [
        "df['question1'] = df['question1'].str.lower()\n",
        "df['question2']= df['question2'].str.lower()"
      ],
      "execution_count": 0,
      "outputs": []
    },
    {
      "cell_type": "code",
      "metadata": {
        "id": "0UOBXs4MJHWs",
        "colab_type": "code",
        "colab": {}
      },
      "source": [
        "EMOTICONS = {u\":‑\\)\":\"Happy face or smiley\",u\":\\)\":\"Happy face or smiley\",u\":-\\]\":\"Happy face or smiley\",u\":\\]\":\"Happy face or smiley\",u\":-3\":\"Happy face smiley\",u\":3\":\"Happy face smiley\",u\":->\":\"Happy face smiley\",u\":>\":\"Happy face smiley\",u\"8-\\)\":\"Happy face smiley\",u\":o\\)\":\"Happy face smiley\",u\":-\\}\":\"Happy face smiley\",u\":\\}\":\"Happy face smiley\",u\":-\\)\":\"Happy face smiley\",u\":c\\)\":\"Happy face smiley\",u\":\\^\\)\":\"Happy face smiley\",u\"=\\]\":\"Happy face smiley\",u\"=\\)\":\"Happy face smiley\",u\":‑D\":\"Laughing, big grin or laugh with glasses\",u\":D\":\"Laughing, big grin or laugh with glasses\",u\"8‑D\":\"Laughing, big grin or laugh with glasses\",u\"8D\":\"Laughing, big grin or laugh with glasses\",u\"X‑D\":\"Laughing, big grin or laugh with glasses\",u\"XD\":\"Laughing, big grin or laugh with glasses\",u\"=D\":\"Laughing, big grin or laugh with glasses\",u\"=3\":\"Laughing, big grin or laugh with glasses\",u\"B\\^D\":\"Laughing, big grin or laugh with glasses\",u\":-\\)\\)\":\"Very happy\",u\":‑\\(\":\"Frown, sad, andry or pouting\",u\":-\\(\":\"Frown, sad, andry or pouting\",u\":\\(\":\"Frown, sad, andry or pouting\",u\":‑c\":\"Frown, sad, andry or pouting\",u\":c\":\"Frown, sad, andry or pouting\",u\":‑<\":\"Frown, sad, andry or pouting\",u\":<\":\"Frown, sad, andry or pouting\",u\":‑\\[\":\"Frown, sad, andry or pouting\",u\":\\[\":\"Frown, sad, andry or pouting\",u\":-\\|\\|\":\"Frown, sad, andry or pouting\",u\">:\\[\":\"Frown, sad, andry or pouting\",u\":\\{\":\"Frown, sad, andry or pouting\",u\":@\":\"Frown, sad, andry or pouting\",u\">:\\(\":\"Frown, sad, andry or pouting\",u\":'‑\\(\":\"Crying\",u\":'\\(\":\"Crying\",u\":'‑\\)\":\"Tears of happiness\",u\":'\\)\":\"Tears of happiness\",u\"D‑':\":\"Horror\",u\"D:<\":\"Disgust\",u\"D:\":\"Sadness\",u\"D8\":\"Great dismay\",u\"D;\":\"Great dismay\",u\"D=\":\"Great dismay\",u\"DX\":\"Great dismay\",u\":‑O\":\"Surprise\",u\":O\":\"Surprise\",u\":‑o\":\"Surprise\",u\":o\":\"Surprise\",u\":-0\":\"Shock\",u\"8‑0\":\"Yawn\",u\">:O\":\"Yawn\",u\":-\\*\":\"Kiss\",u\":\\*\":\"Kiss\",u\":X\":\"Kiss\",u\";‑\\)\":\"Wink or smirk\",u\";\\)\":\"Wink or smirk\",u\"\\*-\\)\":\"Wink or smirk\",u\"\\*\\)\":\"Wink or smirk\",u\";‑\\]\":\"Wink or smirk\",u\";\\]\":\"Wink or smirk\",u\";\\^\\)\":\"Wink or smirk\",u\":‑,\":\"Wink or smirk\",u\";D\":\"Wink or smirk\",u\":‑P\":\"Tongue sticking out, cheeky, playful or blowing a raspberry\",u\":P\":\"Tongue sticking out, cheeky, playful or blowing a raspberry\",u\"X‑P\":\"Tongue sticking out, cheeky, playful or blowing a raspberry\",u\"XP\":\"Tongue sticking out, cheeky, playful or blowing a raspberry\",u\":‑Þ\":\"Tongue sticking out, cheeky, playful or blowing a raspberry\",u\":Þ\":\"Tongue sticking out, cheeky, playful or blowing a raspberry\",u\":b\":\"Tongue sticking out, cheeky, playful or blowing a raspberry\",u\"d:\":\"Tongue sticking out, cheeky, playful or blowing a raspberry\",u\"=p\":\"Tongue sticking out, cheeky, playful or blowing a raspberry\",u\">:P\":\"Tongue sticking out, cheeky, playful or blowing a raspberry\",u\":‑/\":\"Skeptical, annoyed, undecided, uneasy or hesitant\",u\":/\":\"Skeptical, annoyed, undecided, uneasy or hesitant\",u\":-[.]\":\"Skeptical, annoyed, undecided, uneasy or hesitant\",u\">:[(\\\\\\)]\":\"Skeptical, annoyed, undecided, uneasy or hesitant\",u\">:/\":\"Skeptical, annoyed, undecided, uneasy or hesitant\",u\":[(\\\\\\)]\":\"Skeptical, annoyed, undecided, uneasy or hesitant\",u\"=/\":\"Skeptical, annoyed, undecided, uneasy or hesitant\",u\"=[(\\\\\\)]\":\"Skeptical, annoyed, undecided, uneasy or hesitant\",u\":L\":\"Skeptical, annoyed, undecided, uneasy or hesitant\",u\"=L\":\"Skeptical, annoyed, undecided, uneasy or hesitant\",u\":S\":\"Skeptical, annoyed, undecided, uneasy or hesitant\",u\":‑\\|\":\"Straight face\",u\":\\|\":\"Straight face\",u\":$\":\"Embarrassed or blushing\",u\":‑x\":\"Sealed lips or wearing braces or tongue-tied\",u\":x\":\"Sealed lips or wearing braces or tongue-tied\",u\":‑#\":\"Sealed lips or wearing braces or tongue-tied\",u\":#\":\"Sealed lips or wearing braces or tongue-tied\",u\":‑&\":\"Sealed lips or wearing braces or tongue-tied\",u\":&\":\"Sealed lips or wearing braces or tongue-tied\",u\"O:‑\\)\":\"Angel, saint or innocent\",u\"O:\\)\":\"Angel, saint or innocent\",u\"0:‑3\":\"Angel, saint or innocent\",u\"0:3\":\"Angel, saint or innocent\",u\"0:‑\\)\":\"Angel, saint or innocent\",u\"0:\\)\":\"Angel, saint or innocent\",u\":‑b\":\"Tongue sticking out, cheeky, playful or blowing a raspberry\",u\"0;\\^\\)\":\"Angel, saint or innocent\",u\">:‑\\)\":\"Evil or devilish\",u\">:\\)\":\"Evil or devilish\",u\"\\}:‑\\)\":\"Evil or devilish\",u\"\\}:\\)\":\"Evil or devilish\",u\"3:‑\\)\":\"Evil or devilish\",u\"3:\\)\":\"Evil or devilish\",u\">;\\)\":\"Evil or devilish\",u\"\\|;‑\\)\":\"Cool\",u\"\\|‑O\":\"Bored\",u\":‑J\":\"Tongue-in-cheek\",u\"#‑\\)\":\"Party all night\",u\"%‑\\)\":\"Drunk or confused\",u\"%\\)\":\"Drunk or confused\",u\":-###..\":\"Being sick\",u\":###..\":\"Being sick\",u\"<:‑\\|\":\"Dump\",u\"\\(>_<\\)\":\"Troubled\",u\"\\(>_<\\)>\":\"Troubled\",u\"\\(';'\\)\":\"Baby\",u\"\\(\\^\\^>``\":\"Nervous or Embarrassed or Troubled or Shy or Sweat drop\",u\"\\(\\^_\\^;\\)\":\"Nervous or Embarrassed or Troubled or Shy or Sweat drop\",u\"\\(-_-;\\)\":\"Nervous or Embarrassed or Troubled or Shy or Sweat drop\",u\"\\(~_~;\\) \\(・\\.・;\\)\":\"Nervous or Embarrassed or Troubled or Shy or Sweat drop\",u\"\\(-_-\\)zzz\":\"Sleeping\",u\"\\(\\^_-\\)\":\"Wink\",u\"\\(\\(\\+_\\+\\)\\)\":\"Confused\",u\"\\(\\+o\\+\\)\":\"Confused\",u\"\\(o\\|o\\)\":\"Ultraman\",u\"\\^_\\^\":\"Joyful\",u\"\\(\\^_\\^\\)/\":\"Joyful\",u\"\\(\\^O\\^\\)／\":\"Joyful\",u\"\\(\\^o\\^\\)／\":\"Joyful\",u\"\\(__\\)\":\"Kowtow as a sign of respect, or dogeza for apology\",u\"_\\(\\._\\.\\)_\":\"Kowtow as a sign of respect, or dogeza for apology\",u\"<\\(_ _\\)>\":\"Kowtow as a sign of respect, or dogeza for apology\",u\"<m\\(__\\)m>\":\"Kowtow as a sign of respect, or dogeza for apology\",u\"m\\(__\\)m\":\"Kowtow as a sign of respect, or dogeza for apology\",u\"m\\(_ _\\)m\":\"Kowtow as a sign of respect, or dogeza for apology\",u\"\\('_'\\)\":\"Sad or Crying\",u\"\\(/_;\\)\":\"Sad or Crying\",u\"\\(T_T\\) \\(;_;\\)\":\"Sad or Crying\",u\"\\(;_;\":\"Sad of Crying\",u\"\\(;_:\\)\":\"Sad or Crying\",u\"\\(;O;\\)\":\"Sad or Crying\",u\"\\(:_;\\)\":\"Sad or Crying\",u\"\\(ToT\\)\":\"Sad or Crying\",u\";_;\":\"Sad or Crying\",u\";-;\":\"Sad or Crying\",u\";n;\":\"Sad or Crying\",u\";;\":\"Sad or Crying\",u\"Q\\.Q\":\"Sad or Crying\",u\"T\\.T\":\"Sad or Crying\",u\"QQ\":\"Sad or Crying\",u\"Q_Q\":\"Sad or Crying\",u\"\\(-\\.-\\)\":\"Shame\",u\"\\(-_-\\)\":\"Shame\",u\"\\(一一\\)\":\"Shame\",u\"\\(；一_一\\)\":\"Shame\",u\"\\(=_=\\)\":\"Tired\",u\"\\(=\\^\\·\\^=\\)\":\"cat\",u\"\\(=\\^\\·\\·\\^=\\)\":\"cat\",u\"=_\\^=\t\":\"cat\",u\"\\(\\.\\.\\)\":\"Looking down\",u\"\\(\\._\\.\\)\":\"Looking down\",u\"\\^m\\^\":\"Giggling with hand covering mouth\",u\"\\(\\・\\・?\":\"Confusion\",u\"\\(?_?\\)\":\"Confusion\",u\">\\^_\\^<\":\"Normal Laugh\",u\"<\\^!\\^>\":\"Normal Laugh\",u\"\\^/\\^\":\"Normal Laugh\",u\"\\（\\*\\^_\\^\\*）\" :\"Normal Laugh\",u\"\\(\\^<\\^\\) \\(\\^\\.\\^\\)\":\"Normal Laugh\",u\"\\(^\\^\\)\":\"Normal Laugh\",u\"\\(\\^\\.\\^\\)\":\"Normal Laugh\",u\"\\(\\^_\\^\\.\\)\":\"Normal Laugh\",u\"\\(\\^_\\^\\)\":\"Normal Laugh\",u\"\\(\\^\\^\\)\":\"Normal Laugh\",u\"\\(\\^J\\^\\)\":\"Normal Laugh\",u\"\\(\\*\\^\\.\\^\\*\\)\":\"Normal Laugh\",u\"\\(\\^—\\^\\）\":\"Normal Laugh\",u\"\\(#\\^\\.\\^#\\)\":\"Normal Laugh\",u\"\\（\\^—\\^\\）\":\"Waving\",u\"\\(;_;\\)/~~~\":\"Waving\",u\"\\(\\^\\.\\^\\)/~~~\":\"Waving\",u\"\\(-_-\\)/~~~ \\($\\·\\·\\)/~~~\":\"Waving\",u\"\\(T_T\\)/~~~\":\"Waving\",u\"\\(ToT\\)/~~~\":\"Waving\",u\"\\(\\*\\^0\\^\\*\\)\":\"Excited\",u\"\\(\\*_\\*\\)\":\"Amazed\",u\"\\(\\*_\\*;\":\"Amazed\",u\"\\(\\+_\\+\\) \\(@_@\\)\":\"Amazed\",u\"\\(\\*\\^\\^\\)v\":\"Laughing,Cheerful\",u\"\\(\\^_\\^\\)v\":\"Laughing,Cheerful\",u\"\\(\\(d[-_-]b\\)\\)\":\"Headphones,Listening to music\",u'\\(-\"-\\)':\"Worried\",u\"\\(ーー;\\)\":\"Worried\",u\"\\(\\^0_0\\^\\)\":\"Eyeglasses\",u\"\\(\\＾ｖ\\＾\\)\":\"Happy\",u\"\\(\\＾ｕ\\＾\\)\":\"Happy\",u\"\\(\\^\\)o\\(\\^\\)\":\"Happy\",u\"\\(\\^O\\^\\)\":\"Happy\",u\"\\(\\^o\\^\\)\":\"Happy\",u\"\\)\\^o\\^\\(\":\"Happy\",u\":O o_O\":\"Surprised\",u\"o_0\":\"Surprised\",u\"o\\.O\":\"Surpised\",u\"\\(o\\.o\\)\":\"Surprised\",u\"oO\":\"Surprised\",u\"\\(\\*￣m￣\\)\":\"Dissatisfied\",u\"\\(‘A`\\)\":\"Snubbed or Deflated\"}"
      ],
      "execution_count": 0,
      "outputs": []
    },
    {
      "cell_type": "code",
      "metadata": {
        "id": "mJZ5VvzRUDPn",
        "colab_type": "code",
        "outputId": "ee494814-c849-4523-c02a-b0aa9ee46366",
        "colab": {
          "base_uri": "https://localhost:8080/",
          "height": 134
        }
      },
      "source": [
        "nltk.download('stopwords')\n",
        "nltk.download('punkt')\n",
        "nltk.download('wordnet')"
      ],
      "execution_count": 10,
      "outputs": [
        {
          "output_type": "stream",
          "text": [
            "[nltk_data] Downloading package stopwords to /root/nltk_data...\n",
            "[nltk_data]   Unzipping corpora/stopwords.zip.\n",
            "[nltk_data] Downloading package punkt to /root/nltk_data...\n",
            "[nltk_data]   Unzipping tokenizers/punkt.zip.\n",
            "[nltk_data] Downloading package wordnet to /root/nltk_data...\n",
            "[nltk_data]   Unzipping corpora/wordnet.zip.\n"
          ],
          "name": "stdout"
        },
        {
          "output_type": "execute_result",
          "data": {
            "text/plain": [
              "True"
            ]
          },
          "metadata": {
            "tags": []
          },
          "execution_count": 10
        }
      ]
    },
    {
      "cell_type": "code",
      "metadata": {
        "id": "XHrAVU06JLcv",
        "colab_type": "code",
        "colab": {}
      },
      "source": [
        "lmtzr = WordNetLemmatizer()\n",
        "stop_word = [\"above\" ,\"below\", \"up\", \"down\", \"over\", \"all\", \"few\", \"most\", \"no\", \"not\", \"too\", \"very\", \"won\", \"again\", \"nor\"]\n",
        "customStopWords=[]\n",
        "for x in stopwords.words('english'):\n",
        "     if x not in stop_word:\n",
        "            customStopWords.append(x)\n",
        "customStopWords = set(customStopWords+['hmm','hmmm','hmmmm','hmmmmm','hmmmmmm','hmmmmmmm','hmmmmmmmm','...'])"
      ],
      "execution_count": 0,
      "outputs": []
    },
    {
      "cell_type": "code",
      "metadata": {
        "id": "FF9YkpcpJZPp",
        "colab_type": "code",
        "colab": {}
      },
      "source": [
        "mispell_dict = {'colour': 'color', 'centre': 'center', 'favourite': 'favorite', 'travelling': 'traveling', 'counselling': 'counseling', 'theatre': 'theater', 'cancelled': 'canceled', 'labour': 'labor', 'organisation': 'organization', 'wwii': 'world war 2', 'citicise': 'criticize', 'youtu ': 'youtube ', 'Qoura': 'Quora', 'sallary': 'salary', 'Whta': 'What', 'narcisist': 'narcissist', 'howdo': 'how do', 'whatare': 'what are', 'howcan': 'how can', 'howmuch': 'how much', 'howmany': 'how many', 'whydo': 'why do', 'doI': 'do I', 'theBest': 'the best', 'howdoes': 'how does', 'mastrubation': 'masturbation', 'mastrubate': 'masturbate', \"mastrubating\": 'masturbating', 'pennis': 'penis', 'Etherium': 'Ethereum', 'narcissit': 'narcissist', 'bigdata': 'big data', '2k17': '2017', '2k18': '2018', 'qouta': 'quota', 'exboyfriend': 'ex boyfriend', 'airhostess': 'air hostess', \"whst\": 'what', 'watsapp': 'whatsapp', 'demonitisation': 'demonetization', 'demonitization': 'demonetization', 'demonetisation': 'demonetization'}"
      ],
      "execution_count": 0,
      "outputs": []
    },
    {
      "cell_type": "code",
      "metadata": {
        "id": "fX8ArDR4J4Cc",
        "colab_type": "code",
        "colab": {}
      },
      "source": [
        "# Removing html tags\n",
        "def strip_html(text):\n",
        "    soup = BeautifulSoup(text, \"html.parser\")\n",
        "    return soup.get_text()\n",
        "\n",
        "# Removing Digits\n",
        "def remove_digits(text): \n",
        "    pattern = '[0-9]'\n",
        "    text = re.sub(pattern, '', text) \n",
        "    return text\n",
        "\n",
        "# Removing brackets\n",
        "def remove_between_square_brackets(text):\n",
        "    return re.sub('\\[[^]]*\\]', '', text)\n",
        "\n",
        "# Expanding words and slangs\n",
        "def replace_contractions(text):\n",
        "    \"\"\"Replace contractions in string of text\"\"\"\n",
        "    return fix(text)\n",
        "\n",
        "# Removing punctuation\n",
        "PUNCT_TO_REMOVE = punctuation\n",
        "def remove_punctuation(text):\n",
        "    \"\"\"custom function to remove the punctuation\"\"\"\n",
        "    return text.translate(str.maketrans('', '', PUNCT_TO_REMOVE))\n",
        "\n",
        "# Reference : https://gist.github.com/slowkow/7a7f61f495e3dbb7e3d767f97bd7304b\n",
        "def remove_emoji(text):\n",
        "    emoji_pattern = re.compile(\"[\"\n",
        "                           u\"\\U0001F600-\\U0001F64F\"  \n",
        "                           u\"\\U0001F300-\\U0001F5FF\"  \n",
        "                           u\"\\U0001F680-\\U0001F6FF\"  \n",
        "                           u\"\\U0001F1E0-\\U0001F1FF\"   \n",
        "                           u\"\\U00002702-\\U000027B0\"\n",
        "                           u\"\\U000024C2-\\U0001F251\"\n",
        "                           \"]+\", flags=re.UNICODE)\n",
        "    return emoji_pattern.sub(r'', text)\n",
        "\n",
        "# Removing Emoticons\n",
        "def remove_emoticons(text):\n",
        "    emoticon_pattern = re.compile(u'(' + u'|'.join(k for k in EMOTICONS) + u')')\n",
        "    return emoticon_pattern.sub(r'', text)\n",
        "\n",
        "# Removing stopwords and doing lemmatization\n",
        "def remove_stop_word(text):\n",
        "    word_sent = word_tokenize(text)\n",
        "    text = [lmtzr.lemmatize(word) for word in word_sent if word not in customStopWords]\n",
        "    return text\n",
        "\n",
        "def _get_mispell(mispell_dict):\n",
        "    mispell_re = re.compile('(%s)' % '|'.join(mispell_dict.keys()))\n",
        "    return mispell_dict, mispell_re\n",
        "\n",
        "mispellings, mispellings_re = _get_mispell(mispell_dict)\n",
        "\n",
        "def replace_typical_misspell(text):\n",
        "    def replace(match):\n",
        "        return mispellings[match.group(0)]\n",
        "\n",
        "    return mispellings_re.sub(replace, text)\n",
        "\n",
        "def normalize(text):\n",
        "    text = strip_html(text)\n",
        "    text = remove_digits(text)\n",
        "    text = replace_typical_misspell(text)\n",
        "    text = remove_between_square_brackets(text)\n",
        "    text = replace_contractions(text)\n",
        "    text = remove_emoji(text)\n",
        "    text = remove_emoticons(text)\n",
        "    text = remove_punctuation(text)\n",
        "    text = remove_stop_word(text)\n",
        "    return text"
      ],
      "execution_count": 0,
      "outputs": []
    },
    {
      "cell_type": "code",
      "metadata": {
        "id": "9OLacTUBKYJ1",
        "colab_type": "code",
        "outputId": "c41ad781-6fdc-4f7a-f090-05e8b04fa222",
        "colab": {
          "base_uri": "https://localhost:8080/",
          "height": 70
        }
      },
      "source": [
        "df['question1'] = df['question1'].apply(lambda x: normalize(x))\n",
        "df['question2']= df['question2'].apply(lambda x: normalize(x))"
      ],
      "execution_count": 14,
      "outputs": [
        {
          "output_type": "stream",
          "text": [
            "/usr/local/lib/python3.6/dist-packages/bs4/__init__.py:273: UserWarning: \"b'.'\" looks like a filename, not markup. You should probably open this file and pass the filehandle into Beautiful Soup.\n",
            "  ' Beautiful Soup.' % markup)\n"
          ],
          "name": "stderr"
        }
      ]
    },
    {
      "cell_type": "markdown",
      "metadata": {
        "id": "_bXFd8MHNGqQ",
        "colab_type": "text"
      },
      "source": [
        "# Creating word embeddings"
      ]
    },
    {
      "cell_type": "code",
      "metadata": {
        "id": "xRqIA1VmK2bg",
        "colab_type": "code",
        "colab": {}
      },
      "source": [
        "# WORD2VEC \n",
        "W2V_SIZE = 300\n",
        "W2V_WINDOW = 10\n",
        "W2V_EPOCH = 32\n",
        "W2V_MIN_COUNT = 10"
      ],
      "execution_count": 0,
      "outputs": []
    },
    {
      "cell_type": "code",
      "metadata": {
        "id": "nTe-0YFsMSdc",
        "colab_type": "code",
        "colab": {}
      },
      "source": [
        "w2v_model = Word2Vec(size=W2V_SIZE, window=W2V_WINDOW, min_count=W2V_MIN_COUNT, workers=8)"
      ],
      "execution_count": 0,
      "outputs": []
    },
    {
      "cell_type": "code",
      "metadata": {
        "id": "Z05d-TIPMVlm",
        "colab_type": "code",
        "colab": {}
      },
      "source": [
        "q1 = list(df.question1.values)\n",
        "q2 = list(df.question2.values)\n",
        "doc=q1+q2"
      ],
      "execution_count": 0,
      "outputs": []
    },
    {
      "cell_type": "code",
      "metadata": {
        "id": "j-Z0W_T4MYv7",
        "colab_type": "code",
        "colab": {}
      },
      "source": [
        "w2v_model.build_vocab(doc)"
      ],
      "execution_count": 0,
      "outputs": []
    },
    {
      "cell_type": "code",
      "metadata": {
        "id": "ZwFWKjKFMbXh",
        "colab_type": "code",
        "outputId": "e1feeba9-b4e5-430d-8769-91198d4282d4",
        "colab": {
          "base_uri": "https://localhost:8080/",
          "height": 34
        }
      },
      "source": [
        "words = w2v_model.wv.vocab.keys()\n",
        "vocab_size = len(words)\n",
        "print(\"Vocab size\", vocab_size)"
      ],
      "execution_count": 19,
      "outputs": [
        {
          "output_type": "stream",
          "text": [
            "Vocab size 17005\n"
          ],
          "name": "stdout"
        }
      ]
    },
    {
      "cell_type": "code",
      "metadata": {
        "id": "yotyEzMfMdzd",
        "colab_type": "code",
        "outputId": "b3e3b156-eae1-4c4f-be4e-a4b5b3a38a98",
        "colab": {
          "base_uri": "https://localhost:8080/",
          "height": 34
        }
      },
      "source": [
        "w2v_model.train(doc, total_examples=len(doc), epochs=W2V_EPOCH)"
      ],
      "execution_count": 20,
      "outputs": [
        {
          "output_type": "execute_result",
          "data": {
            "text/plain": [
              "(116977238, 127928320)"
            ]
          },
          "metadata": {
            "tags": []
          },
          "execution_count": 20
        }
      ]
    },
    {
      "cell_type": "code",
      "metadata": {
        "id": "fI6gkHCGMgk4",
        "colab_type": "code",
        "colab": {}
      },
      "source": [
        "# 20% validation data (Split the data in to train and validation as you see fit (recommended is 80/20 split))\n",
        "train_df, val_df = train_test_split(df, test_size=0.2, random_state=1234)"
      ],
      "execution_count": 0,
      "outputs": []
    },
    {
      "cell_type": "code",
      "metadata": {
        "id": "53JJW_KnM2rh",
        "colab_type": "code",
        "outputId": "ed8686ab-2165-4779-b422-8d7a1c672da4",
        "colab": {
          "base_uri": "https://localhost:8080/",
          "height": 34
        }
      },
      "source": [
        "## some config values \n",
        "embed_size = 300 # how big is each word vector\n",
        "max_features = 200000 # how many unique words to use (i.e num rows in embedding vector)\n",
        "maxlen = 80 # max number of words in a question to usetokenizer = Tokenizer(num_words=max_features)\n",
        "\n",
        "train_X1 = train_df['question1'].values\n",
        "train_X2 = train_df['question2'].values\n",
        "val_X1 = val_df['question1'].values\n",
        "val_X2 = val_df['question2'].values\n",
        "\n",
        "dfq1=df['question1'].values\n",
        "dfq2=df['question2'].values\n",
        "\n",
        "tokenizer = Tokenizer()\n",
        "tokenizer.fit_on_texts(list(dfq1+dfq2))\n",
        "train_X1 = tokenizer.texts_to_sequences(train_X1)\n",
        "train_X2 = tokenizer.texts_to_sequences(train_X2)\n",
        "\n",
        "val_X1 = tokenizer.texts_to_sequences(val_X1)\n",
        "val_X2 = tokenizer.texts_to_sequences(val_X2)\n",
        "\n",
        "print('Number of unique words',len(tokenizer.word_index))\n",
        "## Pad the sentences \n",
        "train_X1 = pad_sequences(train_X1, maxlen=maxlen)\n",
        "train_X2 = pad_sequences(train_X2, maxlen=maxlen)\n",
        "val_X1 = pad_sequences(val_X1, maxlen=maxlen)\n",
        "val_X2 = pad_sequences(val_X2, maxlen=maxlen)\n",
        "\n",
        "## Get the target values\n",
        "train_y = train_df['is_duplicate'].values\n",
        "val_y = val_df['is_duplicate'].values"
      ],
      "execution_count": 22,
      "outputs": [
        {
          "output_type": "stream",
          "text": [
            "Number of unique words 86094\n"
          ],
          "name": "stdout"
        }
      ]
    },
    {
      "cell_type": "code",
      "metadata": {
        "id": "iYmS86RTM6h4",
        "colab_type": "code",
        "outputId": "fefdb0d2-5070-4c0f-878f-0d51ae6d0c3c",
        "colab": {
          "base_uri": "https://localhost:8080/",
          "height": 34
        }
      },
      "source": [
        "vocab_size = len(tokenizer.word_index) + 1\n",
        "embedding_matrix = np.zeros((vocab_size, W2V_SIZE))\n",
        "for word, i in tokenizer.word_index.items():\n",
        "  if word in w2v_model.wv:\n",
        "    embedding_matrix[i] = w2v_model.wv[word]\n",
        "print(embedding_matrix.shape)"
      ],
      "execution_count": 23,
      "outputs": [
        {
          "output_type": "stream",
          "text": [
            "(86095, 300)\n"
          ],
          "name": "stdout"
        }
      ]
    },
    {
      "cell_type": "code",
      "metadata": {
        "id": "gshwj_ziM-h5",
        "colab_type": "code",
        "outputId": "35ff095f-44b2-4366-9013-46f17d7aa632",
        "colab": {
          "base_uri": "https://localhost:8080/",
          "height": 70
        }
      },
      "source": [
        "embedding_layer = Embedding(vocab_size, W2V_SIZE, weights=[embedding_matrix], input_length=maxlen, trainable=False)"
      ],
      "execution_count": 24,
      "outputs": [
        {
          "output_type": "stream",
          "text": [
            "WARNING:tensorflow:From /usr/local/lib/python3.6/dist-packages/keras/backend/tensorflow_backend.py:66: The name tf.get_default_graph is deprecated. Please use tf.compat.v1.get_default_graph instead.\n",
            "\n"
          ],
          "name": "stdout"
        }
      ]
    },
    {
      "cell_type": "markdown",
      "metadata": {
        "id": "PGB5eMkONOL9",
        "colab_type": "text"
      },
      "source": [
        "# Model Building"
      ]
    },
    {
      "cell_type": "code",
      "metadata": {
        "id": "aV9KG8zlNFmW",
        "colab_type": "code",
        "colab": {}
      },
      "source": [
        "def exponent_neg_manhattan_distance(left, right):\n",
        "    return K.exp(-K.sum(K.abs(left-right), axis=1, keepdims=True))"
      ],
      "execution_count": 0,
      "outputs": []
    },
    {
      "cell_type": "code",
      "metadata": {
        "id": "i27b0QTKQ_ws",
        "colab_type": "code",
        "colab": {}
      },
      "source": [
        "class Attention(Layer):\n",
        "    def __init__(self, step_dim,\n",
        "                 W_regularizer=None, b_regularizer=None,\n",
        "                 W_constraint=None, b_constraint=None,\n",
        "                 bias=True, **kwargs):\n",
        "        self.supports_masking = True\n",
        "        self.init = initializers.get('glorot_uniform')\n",
        "\n",
        "        self.W_regularizer = regularizers.get(W_regularizer)\n",
        "        self.b_regularizer = regularizers.get(b_regularizer)\n",
        "\n",
        "        self.W_constraint = constraints.get(W_constraint)\n",
        "        self.b_constraint = constraints.get(b_constraint)\n",
        "\n",
        "        self.bias = bias\n",
        "        self.step_dim = step_dim\n",
        "        self.features_dim = 0\n",
        "        super(Attention, self).__init__(**kwargs)\n",
        "\n",
        "    def build(self, input_shape):\n",
        "        assert len(input_shape) == 3\n",
        "\n",
        "        self.W = self.add_weight((input_shape[-1],),\n",
        "                                 initializer=self.init,\n",
        "                                 name='{}_W'.format(self.name),\n",
        "                                 regularizer=self.W_regularizer,\n",
        "                                 constraint=self.W_constraint)\n",
        "        self.features_dim = input_shape[-1]\n",
        "\n",
        "        if self.bias:\n",
        "            self.b = self.add_weight((input_shape[1],),\n",
        "                                     initializer='zero',\n",
        "                                     name='{}_b'.format(self.name),\n",
        "                                     regularizer=self.b_regularizer,\n",
        "                                     constraint=self.b_constraint)\n",
        "        else:\n",
        "            self.b = None\n",
        "\n",
        "        self.built = True\n",
        "\n",
        "    def compute_mask(self, input, input_mask=None):\n",
        "        return None\n",
        "\n",
        "    def call(self, x, mask=None):\n",
        "        features_dim = self.features_dim\n",
        "        step_dim = self.step_dim\n",
        "\n",
        "        eij = K.reshape(K.dot(K.reshape(x, (-1, features_dim)),\n",
        "                        K.reshape(self.W, (features_dim, 1))), (-1, step_dim))\n",
        "\n",
        "        if self.bias:\n",
        "            eij += self.b\n",
        "\n",
        "        eij = K.tanh(eij)\n",
        "\n",
        "        a = K.exp(eij)\n",
        "\n",
        "        if mask is not None:\n",
        "            a *= K.cast(mask, K.floatx())\n",
        "\n",
        "        a /= K.cast(K.sum(a, axis=1, keepdims=True) + K.epsilon(), K.floatx())\n",
        "\n",
        "        a = K.expand_dims(a)\n",
        "        weighted_input = x * a\n",
        "        return K.sum(weighted_input, axis=1)\n",
        "\n",
        "    def compute_output_shape(self, input_shape):\n",
        "        return input_shape[0],  self.features_dim"
      ],
      "execution_count": 0,
      "outputs": []
    },
    {
      "cell_type": "code",
      "metadata": {
        "colab_type": "code",
        "outputId": "eeec6520-3ea0-47f1-ae64-7b427c18b41f",
        "id": "CcY5CJODg9lD",
        "colab": {
          "base_uri": "https://localhost:8080/",
          "height": 521
        }
      },
      "source": [
        "# Define inputs\n",
        "seq1 = Input(shape=(maxlen,), dtype='int32')\n",
        "seq2 = Input(shape=(maxlen,), dtype='int32')\n",
        "\n",
        "# Run inputs through embedding\n",
        "emb1 = embedding_layer(seq1)\n",
        "emb2 = embedding_layer(seq2)\n",
        "\n",
        "\n",
        "lstm1=Bidirectional(CuDNNLSTM(1024, return_sequences=True))(emb1)\n",
        "lstm1=Bidirectional(CuDNNLSTM(512, return_sequences=True))(lstm1)\n",
        "lstm1 = Attention(maxlen)(lstm1) \n",
        "\n",
        "lstm2=Bidirectional(CuDNNLSTM(1024, return_sequences=True))(emb2)\n",
        "lstm2=Bidirectional(CuDNNLSTM(512, return_sequences=True))(lstm2)\n",
        "lstm2 = Attention(maxlen)(lstm2) \n",
        "\n",
        "out_malstm_distance = Lambda(function=lambda x: exponent_neg_manhattan_distance(x[0], x[1]),output_shape=lambda x: (x[0][0], 1))(([lstm1, lstm2]))\n",
        "\n",
        "model = Model(inputs=[seq1, seq2], outputs=out_malstm_distance)\n",
        "model.summary()"
      ],
      "execution_count": 35,
      "outputs": [
        {
          "output_type": "stream",
          "text": [
            "Model: \"model_3\"\n",
            "__________________________________________________________________________________________________\n",
            "Layer (type)                    Output Shape         Param #     Connected to                     \n",
            "==================================================================================================\n",
            "input_5 (InputLayer)            (None, 80)           0                                            \n",
            "__________________________________________________________________________________________________\n",
            "input_6 (InputLayer)            (None, 80)           0                                            \n",
            "__________________________________________________________________________________________________\n",
            "embedding_1 (Embedding)         (None, 80, 300)      25828500    input_5[0][0]                    \n",
            "                                                                 input_6[0][0]                    \n",
            "__________________________________________________________________________________________________\n",
            "bidirectional_5 (Bidirectional) (None, 80, 2048)     10862592    embedding_1[4][0]                \n",
            "__________________________________________________________________________________________________\n",
            "bidirectional_7 (Bidirectional) (None, 80, 2048)     10862592    embedding_1[5][0]                \n",
            "__________________________________________________________________________________________________\n",
            "bidirectional_6 (Bidirectional) (None, 80, 1024)     10493952    bidirectional_5[0][0]            \n",
            "__________________________________________________________________________________________________\n",
            "bidirectional_8 (Bidirectional) (None, 80, 1024)     10493952    bidirectional_7[0][0]            \n",
            "__________________________________________________________________________________________________\n",
            "attention_5 (Attention)         (None, 1024)         1104        bidirectional_6[0][0]            \n",
            "__________________________________________________________________________________________________\n",
            "attention_6 (Attention)         (None, 1024)         1104        bidirectional_8[0][0]            \n",
            "__________________________________________________________________________________________________\n",
            "lambda_3 (Lambda)               (None, 1)            0           attention_5[0][0]                \n",
            "                                                                 attention_6[0][0]                \n",
            "==================================================================================================\n",
            "Total params: 68,543,796\n",
            "Trainable params: 42,715,296\n",
            "Non-trainable params: 25,828,500\n",
            "__________________________________________________________________________________________________\n"
          ],
          "name": "stdout"
        }
      ]
    },
    {
      "cell_type": "code",
      "metadata": {
        "id": "WK96e_9AN7Kt",
        "colab_type": "code",
        "colab": {}
      },
      "source": [
        "model.compile(loss='binary_crossentropy', optimizer='adam', metrics=['acc'])"
      ],
      "execution_count": 0,
      "outputs": []
    },
    {
      "cell_type": "code",
      "metadata": {
        "id": "98N6ry4yN_EW",
        "colab_type": "code",
        "colab": {}
      },
      "source": [
        "early_stopping = EarlyStopping(monitor='val_acc', mode = 'max',patience=10, verbose=1)\n",
        "model_checkpoint = ModelCheckpoint('man_lstm',monitor='val_acc', \n",
        "                                   mode = 'max', save_best_only=True, verbose=1)\n",
        "reduce_lr = ReduceLROnPlateau(monitor='val_acc', mode = 'max',factor=0.5, patience=5, min_lr=0.0001, verbose=1)"
      ],
      "execution_count": 0,
      "outputs": []
    },
    {
      "cell_type": "code",
      "metadata": {
        "id": "HmEcCw1ROB3i",
        "colab_type": "code",
        "outputId": "a77d7a32-04b5-4edb-a8aa-4a740eddacff",
        "colab": {
          "base_uri": "https://localhost:8080/",
          "height": 739
        }
      },
      "source": [
        "history=model.fit([train_X1, train_X2], train_y,batch_size=64,epochs=10,shuffle=True,verbose=2,validation_data=([val_X1, val_X2], val_y),callbacks=[ model_checkpoint,reduce_lr,early_stopping])"
      ],
      "execution_count": 38,
      "outputs": [
        {
          "output_type": "stream",
          "text": [
            "Train on 291088 samples, validate on 72773 samples\n",
            "Epoch 1/10\n",
            " - 1466s - loss: 0.5608 - acc: 0.7194 - val_loss: 0.4958 - val_acc: 0.7564\n",
            "\n",
            "Epoch 00001: val_acc improved from -inf to 0.75639, saving model to man_lstm\n",
            "Epoch 2/10\n",
            " - 1465s - loss: 0.4584 - acc: 0.7784 - val_loss: 0.4537 - val_acc: 0.7818\n",
            "\n",
            "Epoch 00002: val_acc improved from 0.75639 to 0.78184, saving model to man_lstm\n",
            "Epoch 3/10\n",
            " - 1464s - loss: 0.4027 - acc: 0.8127 - val_loss: 0.4369 - val_acc: 0.7936\n",
            "\n",
            "Epoch 00003: val_acc improved from 0.78184 to 0.79356, saving model to man_lstm\n",
            "Epoch 4/10\n",
            " - 1463s - loss: 0.3470 - acc: 0.8455 - val_loss: 0.4349 - val_acc: 0.7998\n",
            "\n",
            "Epoch 00004: val_acc improved from 0.79356 to 0.79984, saving model to man_lstm\n",
            "Epoch 5/10\n",
            " - 1465s - loss: 0.2946 - acc: 0.8750 - val_loss: 0.4502 - val_acc: 0.8005\n",
            "\n",
            "Epoch 00005: val_acc improved from 0.79984 to 0.80049, saving model to man_lstm\n",
            "Epoch 6/10\n",
            " - 1466s - loss: 0.2527 - acc: 0.8989 - val_loss: 0.4905 - val_acc: 0.7985\n",
            "\n",
            "Epoch 00006: val_acc did not improve from 0.80049\n",
            "Epoch 7/10\n",
            " - 1468s - loss: 0.2208 - acc: 0.9158 - val_loss: 0.5114 - val_acc: 0.7977\n",
            "\n",
            "Epoch 00007: val_acc did not improve from 0.80049\n",
            "Epoch 8/10\n",
            " - 1469s - loss: 0.1988 - acc: 0.9269 - val_loss: 0.5556 - val_acc: 0.7958\n",
            "\n",
            "Epoch 00008: val_acc did not improve from 0.80049\n",
            "Epoch 9/10\n",
            " - 1469s - loss: 0.1822 - acc: 0.9347 - val_loss: 0.5753 - val_acc: 0.7938\n",
            "\n",
            "Epoch 00009: val_acc did not improve from 0.80049\n",
            "Epoch 10/10\n",
            " - 1467s - loss: 0.1682 - acc: 0.9404 - val_loss: 0.6425 - val_acc: 0.7925\n",
            "\n",
            "Epoch 00010: val_acc did not improve from 0.80049\n",
            "\n",
            "Epoch 00010: ReduceLROnPlateau reducing learning rate to 0.0005000000237487257.\n"
          ],
          "name": "stdout"
        }
      ]
    },
    {
      "cell_type": "markdown",
      "metadata": {
        "id": "j1gNFEyHbOxh",
        "colab_type": "text"
      },
      "source": [
        "Plotting accuracy curve and loss curve for training and validation dataset\n"
      ]
    },
    {
      "cell_type": "code",
      "metadata": {
        "id": "lV388s5HOFGf",
        "colab_type": "code",
        "colab": {
          "base_uri": "https://localhost:8080/",
          "height": 573
        },
        "outputId": "95786894-725f-4107-8517-b0a38b007686"
      },
      "source": [
        "import matplotlib.pyplot as plt\n",
        "\n",
        "acc = history.history['acc']\n",
        "val_acc = history.history['val_acc']\n",
        "loss = history.history['loss']\n",
        "val_loss = history.history['val_loss']\n",
        "epochs = range(len(acc))\n",
        " \n",
        "plt.plot(epochs, acc, 'b', label='Training acc')\n",
        "plt.plot(epochs, val_acc, 'r', label='Validation acc')\n",
        "plt.xlabel('epochs')\n",
        "plt.ylabel('Accuracy')\n",
        "plt.title('Training and validation accuracy')\n",
        "plt.legend()\n",
        " \n",
        "plt.figure()\n",
        " \n",
        "plt.plot(epochs, loss, 'b', label='Training loss')\n",
        "plt.plot(epochs, val_loss, 'r', label='Validation loss')\n",
        "plt.xlabel('epochs')\n",
        "plt.ylabel('Loss')\n",
        "plt.title('Training and validation loss')\n",
        "plt.legend()\n",
        " \n",
        "plt.show()"
      ],
      "execution_count": 43,
      "outputs": [
        {
          "output_type": "display_data",
          "data": {
            "image/png": "[encoded data removed]",
            "text/plain": [
              "<Figure size 432x288 with 1 Axes>"
            ]
          },
          "metadata": {
            "tags": []
          }
        },
        {
          "output_type": "display_data",
          "data": {
            "image/png": "[encoded data removed]",
            "text/plain": [
              "<Figure size 432x288 with 1 Axes>"
            ]
          },
          "metadata": {
            "tags": []
          }
        }
      ]
    },
    {
      "cell_type": "markdown",
      "metadata": {
        "id": "aRz9YmoTeqjp",
        "colab_type": "text"
      },
      "source": [
        "Saving Models for deployment"
      ]
    },
    {
      "cell_type": "code",
      "metadata": {
        "id": "1dq1c2ekeOku",
        "colab_type": "code",
        "colab": {
          "base_uri": "https://localhost:8080/",
          "height": 87
        },
        "outputId": "f2840ebc-9d81-4561-f9d2-66b63bcf99aa"
      },
      "source": [
        "model.save(\"model.h5\")\n",
        "w2v_model.save(\"w2vmodel.w2v\")\n",
        "from sklearn.externals import joblib\n",
        "filename = 'tokenizer.pkl'\n",
        "joblib.dump(tokenizer, filename)"
      ],
      "execution_count": 47,
      "outputs": [
        {
          "output_type": "stream",
          "text": [
            "/usr/local/lib/python3.6/dist-packages/smart_open/smart_open_lib.py:402: UserWarning: This function is deprecated, use smart_open.open instead. See the migration notes for details: https://github.com/RaRe-Technologies/smart_open/blob/master/README.rst#migrating-to-the-new-open-function\n",
            "  'See the migration notes for details: %s' % _MIGRATION_NOTES_URL\n"
          ],
          "name": "stderr"
        },
        {
          "output_type": "execute_result",
          "data": {
            "text/plain": [
              "['tokenizer.pkl']"
            ]
          },
          "metadata": {
            "tags": []
          },
          "execution_count": 47
        }
      ]
    }
  ]
}